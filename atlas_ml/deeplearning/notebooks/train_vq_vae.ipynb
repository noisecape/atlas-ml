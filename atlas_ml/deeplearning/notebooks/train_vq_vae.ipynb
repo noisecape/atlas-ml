{
 "cells": [
  {
   "cell_type": "code",
   "execution_count": 1,
   "metadata": {},
   "outputs": [],
   "source": [
    "import cv2\n",
    "import matplotlib.pyplot as plt\n",
    "import torch\n",
    "import torch.nn as nn\n",
    "\n",
    "from atlas_ml.datasets.data_pipeline import DataPipeline\n",
    "from atlas_ml.deeplearning.vq_vae import VQVAE"
   ]
  },
  {
   "cell_type": "code",
   "execution_count": 2,
   "metadata": {},
   "outputs": [],
   "source": [
    "vq_vae = VQVAE(\n",
    "    input_channels=1, \n",
    "    output_channels=1, \n",
    "    hidden_dims=[32, 64], \n",
    "    codebook_dim=128, \n",
    "    img_size=28, \n",
    "    latent_dim=64, \n",
    "    scale_factor=2, \n",
    "    expansion_factor=3\n",
    "    )\n",
    "dataset_config = {'batch_size':128, 'val_split':0.2, 'num_workers':2, 'pin_memory':True}\n",
    "train_dl, val_dl = DataPipeline(configs=dataset_config).get_dataset() # default is mnist"
   ]
  },
  {
   "cell_type": "code",
   "execution_count": 3,
   "metadata": {},
   "outputs": [
    {
     "data": {
      "application/vnd.jupyter.widget-view+json": {
       "model_id": "5ee7a00b1adb448c87b3ef5802ca6805",
       "version_major": 2,
       "version_minor": 0
      },
      "text/plain": [
       "  0%|          | 0/10 [00:00<?, ?it/s]"
      ]
     },
     "metadata": {},
     "output_type": "display_data"
    }
   ],
   "source": [
    "vq_vae.train_model(\n",
    "    train_dataloader=train_dl,\n",
    "    val_dataloader=val_dl,\n",
    "    optimizer=torch.optim.Adam,\n",
    "    criterion=nn.MSELoss,\n",
    "    epochs=10,\n",
    "    lr=3e-4,\n",
    "    device='cuda'\n",
    ")"
   ]
  }
 ],
 "metadata": {
  "kernelspec": {
   "display_name": "atlas-ml",
   "language": "python",
   "name": "python3"
  },
  "language_info": {
   "codemirror_mode": {
    "name": "ipython",
    "version": 3
   },
   "file_extension": ".py",
   "mimetype": "text/x-python",
   "name": "python",
   "nbconvert_exporter": "python",
   "pygments_lexer": "ipython3",
   "version": "3.12.4"
  }
 },
 "nbformat": 4,
 "nbformat_minor": 2
}
